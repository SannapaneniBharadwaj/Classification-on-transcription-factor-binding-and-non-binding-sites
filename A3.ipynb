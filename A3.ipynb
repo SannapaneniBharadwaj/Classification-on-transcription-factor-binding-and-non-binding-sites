{
  "nbformat": 4,
  "nbformat_minor": 0,
  "metadata": {
    "colab": {
      "name": "A3.ipynb",
      "version": "0.3.2",
      "views": {},
      "default_view": {},
      "provenance": [],
      "collapsed_sections": []
    },
    "kernelspec": {
      "name": "python3",
      "display_name": "Python 3"
    }
  },
  "cells": [
    {
      "metadata": {
        "id": "CkEaXAF5J50M",
        "colab_type": "code",
        "colab": {
          "autoexec": {
            "startup": false,
            "wait_interval": 0
          }
        }
      },
      "cell_type": "code",
      "source": [
        "from os.path import join\n",
        "import subprocess, h5py\n",
        "#from common_defs import *\n",
        "import numpy as np\n",
        "import pandas as pd\n",
        "import sklearn\n",
        "import keras\n",
        "from sklearn.model_selection import train_test_split\n",
        "from google.colab import files\n",
        "from keras.models import Sequential\n",
        "from keras.layers import Dense, Dropout, Activation, Flatten\n",
        "from keras.layers import Convolution2D \n",
        "from keras.utils import to_categorical\n",
        "from keras.utils import np_utils\n",
        "from keras.layers.normalization import BatchNormalization as BatchNorm\n",
        "from keras.layers.convolutional import ZeroPadding2D, Conv2D\n",
        "from keras.layers import GlobalMaxPooling2D\n",
        "from keras.callbacks import EarlyStopping\n",
        "from keras.layers.advanced_activations import *\n",
        "from keras.optimizers import Adadelta,RMSprop\n",
        "from sklearn.preprocessing import StandardScaler, RobustScaler, MinMaxScaler, MaxAbsScaler\n",
        "from keras.optimizers import SGD\n"
      ],
      "execution_count": 0,
      "outputs": []
    },
    {
      "metadata": {
        "id": "Zff30ZcmKFDd",
        "colab_type": "code",
        "colab": {
          "autoexec": {
            "startup": false,
            "wait_interval": 0
          },
          "resources": {
            "http://localhost:8080/nbextensions/google.colab/files.js": {
              "data": "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",
              "ok": true,
              "headers": [
                [
                  "content-type",
                  "application/javascript"
                ]
              ],
              "status": 200,
              "status_text": ""
            }
          },
          "base_uri": "https://localhost:8080/",
          "height": 128
        },
        "outputId": "f68c96af-b6b0-406c-d590-ee5de31ec455",
        "executionInfo": {
          "status": "ok",
          "timestamp": 1523242213763,
          "user_tz": 240,
          "elapsed": 11953,
          "user": {
            "displayName": "Bharadwaj Sannapaneni",
            "photoUrl": "https://lh3.googleusercontent.com/a/default-user=s128",
            "userId": "109318841135892254507"
          }
        }
      },
      "cell_type": "code",
      "source": [
        "testdata = files.upload()\n",
        "traindata = files.upload()"
      ],
      "execution_count": 410,
      "outputs": [
        {
          "output_type": "display_data",
          "data": {
            "text/html": [
              "\n",
              "     <input type=\"file\" id=\"files-a39975ba-7daf-4d50-8ad2-2b5e4b0c9d13\" name=\"files[]\" multiple disabled />\n",
              "     <output id=\"result-a39975ba-7daf-4d50-8ad2-2b5e4b0c9d13\">\n",
              "      Upload widget is only available when the cell has been executed in the\n",
              "      current browser session. Please rerun this cell to enable.\n",
              "      </output>\n",
              "      <script src=\"/nbextensions/google.colab/files.js\"></script> "
            ],
            "text/plain": [
              "<IPython.core.display.HTML object>"
            ]
          },
          "metadata": {
            "tags": []
          }
        },
        {
          "output_type": "stream",
          "text": [
            "Saving test.csv to test (31).csv\n"
          ],
          "name": "stdout"
        },
        {
          "output_type": "display_data",
          "data": {
            "text/html": [
              "\n",
              "     <input type=\"file\" id=\"files-17745194-aab2-4d0f-9dcb-2653ae105964\" name=\"files[]\" multiple disabled />\n",
              "     <output id=\"result-17745194-aab2-4d0f-9dcb-2653ae105964\">\n",
              "      Upload widget is only available when the cell has been executed in the\n",
              "      current browser session. Please rerun this cell to enable.\n",
              "      </output>\n",
              "      <script src=\"/nbextensions/google.colab/files.js\"></script> "
            ],
            "text/plain": [
              "<IPython.core.display.HTML object>"
            ]
          },
          "metadata": {
            "tags": []
          }
        },
        {
          "output_type": "stream",
          "text": [
            "Saving train.csv to train (32).csv\n"
          ],
          "name": "stdout"
        }
      ]
    },
    {
      "metadata": {
        "id": "Hqt6qYfSKkQC",
        "colab_type": "code",
        "colab": {
          "autoexec": {
            "startup": false,
            "wait_interval": 0
          },
          "base_uri": "https://localhost:8080/",
          "height": 34
        },
        "outputId": "85c72963-f252-4b8f-bd24-8eaf02c284c7",
        "executionInfo": {
          "status": "ok",
          "timestamp": 1523242218530,
          "user_tz": 240,
          "elapsed": 352,
          "user": {
            "displayName": "Bharadwaj Sannapaneni",
            "photoUrl": "https://lh3.googleusercontent.com/a/default-user=s128",
            "userId": "109318841135892254507"
          }
        }
      },
      "cell_type": "code",
      "source": [
        "import io\n",
        "\n",
        "### Reading the Training data using Pandas\n",
        "given_data = pd.read_csv(io.StringIO(traindata['train.csv'].decode('utf-8')))\n",
        "\n",
        "### Encoding the Sequence\n",
        "c2num = {'A' : 0 , 'G' : 1 , 'C' : 2, 'T' : 3}\n",
        "train_data = np.zeros((2000,1,14))\n",
        "for i in range(len(train_data)):\n",
        " train_data[i] = [c2num[ch] for ch in given_data['sequence'][i]]\n",
        " #train_data[i] = np.transpose(train_data[i])\n",
        "\n",
        "### One hot encoding  \n",
        "encoded_train_data = to_categorical(train_data)\n",
        "\n",
        "### Dividing the training data into training and validation set\n",
        "X_train, X_validate, Y_train, Y_validate = train_test_split(encoded_train_data, given_data['label'], test_size=0.2)\n",
        "print(encoded_train_data.shape)"
      ],
      "execution_count": 411,
      "outputs": [
        {
          "output_type": "stream",
          "text": [
            "(2000, 1, 14, 4)\n"
          ],
          "name": "stdout"
        }
      ]
    },
    {
      "metadata": {
        "id": "s3VTvpGNqZpY",
        "colab_type": "code",
        "colab": {
          "autoexec": {
            "startup": false,
            "wait_interval": 0
          },
          "base_uri": "https://localhost:8080/",
          "height": 34
        },
        "outputId": "b43c9066-b425-476d-857a-7b22ed75e735",
        "executionInfo": {
          "status": "ok",
          "timestamp": 1523242219749,
          "user_tz": 240,
          "elapsed": 327,
          "user": {
            "displayName": "Bharadwaj Sannapaneni",
            "photoUrl": "https://lh3.googleusercontent.com/a/default-user=s128",
            "userId": "109318841135892254507"
          }
        }
      },
      "cell_type": "code",
      "source": [
        "### Reading the Test data using Pandas\n",
        "given_test_data = pd.read_csv(io.StringIO(testdata['test.csv'].decode('utf-8')))\n",
        "\n",
        "### Encoding the Sequence\n",
        "test_data = np.zeros((400,1,14))\n",
        "for i in range(len(test_data)):\n",
        " test_data[i] = [c2num[ch] for ch in given_test_data['sequence'][i]]\n",
        " #test_data[i] = np.transpose(test_data[i])\n",
        "\n",
        "### One hot encoding  \n",
        "encoded_test_data = to_categorical(test_data)\n",
        "print(encoded_test_data.shape)\n",
        "batchsize=128"
      ],
      "execution_count": 412,
      "outputs": [
        {
          "output_type": "stream",
          "text": [
            "(400, 1, 14, 4)\n"
          ],
          "name": "stdout"
        }
      ]
    },
    {
      "metadata": {
        "id": "6KmeanWhrno2",
        "colab_type": "code",
        "colab": {
          "autoexec": {
            "startup": false,
            "wait_interval": 0
          }
        }
      },
      "cell_type": "code",
      "source": [
        "model = Sequential()\n",
        "model.add(Conv2D(256, (1, 24), padding='same', input_shape=[1,14,4], activation='relu'))\n",
        "model.add(GlobalMaxPooling2D())\n",
        "model.add(Dense(64,activation='relu'))\n",
        "model.add(Dropout(0.5))\n",
        "model.add(Dense(1))\n",
        "model.add(Activation('sigmoid'))"
      ],
      "execution_count": 0,
      "outputs": []
    },
    {
      "metadata": {
        "id": "BL5gJy_CFgHe",
        "colab_type": "code",
        "colab": {
          "autoexec": {
            "startup": false,
            "wait_interval": 0
          }
        }
      },
      "cell_type": "code",
      "source": [
        "#optim = Adadelta\n",
        "#myoptimizer = optim(epsilon=1e-09)\n",
        "#mylossfunc = 'binary_crossentropy'\n",
        "#model.compile(loss=mylossfunc, optimizer=myoptimizer,metrics=['accuracy'])\n",
        "model.compile(loss=keras.losses.binary_crossentropy,\n",
        "              optimizer=keras.optimizers.SGD(lr=0.03),\n",
        "              metrics=['accuracy'])\n",
        "early_stopping = EarlyStopping( monitor = 'val_loss', patience = 3, verbose = 0 )"
      ],
      "execution_count": 0,
      "outputs": []
    },
    {
      "metadata": {
        "id": "rFno4SnGu84l",
        "colab_type": "code",
        "colab": {
          "autoexec": {
            "startup": false,
            "wait_interval": 0
          },
          "base_uri": "https://localhost:8080/",
          "height": 3394
        },
        "outputId": "b815ca44-3ab8-4f99-c23b-9839374f6417",
        "executionInfo": {
          "status": "ok",
          "timestamp": 1523242271418,
          "user_tz": 240,
          "elapsed": 48869,
          "user": {
            "displayName": "Bharadwaj Sannapaneni",
            "photoUrl": "https://lh3.googleusercontent.com/a/default-user=s128",
            "userId": "109318841135892254507"
          }
        }
      },
      "cell_type": "code",
      "source": [
        "model.fit(X_train, Y_train, epochs=100, batch_size=200 )"
      ],
      "execution_count": 415,
      "outputs": [
        {
          "output_type": "stream",
          "text": [
            "Epoch 1/100\n",
            "1600/1600 [==============================] - 3s 2ms/step - loss: 0.6788 - acc: 0.5744\n",
            "Epoch 2/100\n",
            "1600/1600 [==============================] - 0s 289us/step - loss: 0.6343 - acc: 0.7450\n",
            "Epoch 3/100\n",
            "1600/1600 [==============================] - 0s 289us/step - loss: 0.5990 - acc: 0.7912\n",
            "Epoch 4/100\n",
            "1600/1600 [==============================] - 0s 293us/step - loss: 0.5660 - acc: 0.8163\n",
            "Epoch 5/100\n",
            "1600/1600 [==============================] - 0s 289us/step - loss: 0.5326 - acc: 0.8313\n",
            "Epoch 6/100\n",
            "1600/1600 [==============================] - 0s 290us/step - loss: 0.5080 - acc: 0.8444\n",
            "Epoch 7/100\n",
            "1600/1600 [==============================] - 0s 291us/step - loss: 0.4841 - acc: 0.8463\n",
            "Epoch 8/100\n",
            "1600/1600 [==============================] - 0s 288us/step - loss: 0.4602 - acc: 0.8494\n",
            "Epoch 9/100\n",
            "1600/1600 [==============================] - 0s 286us/step - loss: 0.4519 - acc: 0.8475\n",
            "Epoch 10/100\n",
            "1600/1600 [==============================] - 0s 285us/step - loss: 0.4300 - acc: 0.8537\n",
            "Epoch 11/100\n",
            "1600/1600 [==============================] - 0s 289us/step - loss: 0.4146 - acc: 0.8456\n",
            "Epoch 12/100\n",
            "1600/1600 [==============================] - 0s 290us/step - loss: 0.4051 - acc: 0.8494\n",
            "Epoch 13/100\n",
            "1600/1600 [==============================] - 0s 291us/step - loss: 0.3947 - acc: 0.8475\n",
            "Epoch 14/100\n",
            "1600/1600 [==============================] - 0s 291us/step - loss: 0.3911 - acc: 0.8500\n",
            "Epoch 15/100\n",
            " 800/1600 [==============>...............] - ETA: 0s - loss: 0.3823 - acc: 0.8450"
          ],
          "name": "stdout"
        },
        {
          "output_type": "stream",
          "text": [
            "1600/1600 [==============================] - 0s 301us/step - loss: 0.3777 - acc: 0.8544\n",
            "Epoch 16/100\n",
            "1600/1600 [==============================] - 0s 290us/step - loss: 0.3757 - acc: 0.8556\n",
            "Epoch 17/100\n",
            "1600/1600 [==============================] - 0s 290us/step - loss: 0.3666 - acc: 0.8594\n",
            "Epoch 18/100\n",
            "1600/1600 [==============================] - 0s 290us/step - loss: 0.3586 - acc: 0.8619\n",
            "Epoch 19/100\n",
            "1600/1600 [==============================] - 0s 289us/step - loss: 0.3576 - acc: 0.8600\n",
            "Epoch 20/100\n",
            "1600/1600 [==============================] - 0s 292us/step - loss: 0.3487 - acc: 0.8581\n",
            "Epoch 21/100\n",
            "1600/1600 [==============================] - 0s 288us/step - loss: 0.3513 - acc: 0.8638\n",
            "Epoch 22/100\n",
            "1600/1600 [==============================] - 0s 287us/step - loss: 0.3355 - acc: 0.8688\n",
            "Epoch 23/100\n",
            "1600/1600 [==============================] - 0s 291us/step - loss: 0.3369 - acc: 0.8594\n",
            "Epoch 24/100\n",
            "1600/1600 [==============================] - 0s 291us/step - loss: 0.3386 - acc: 0.8538\n",
            "Epoch 25/100\n",
            "1600/1600 [==============================] - 0s 287us/step - loss: 0.3368 - acc: 0.8694\n",
            "Epoch 26/100\n",
            "1600/1600 [==============================] - 0s 287us/step - loss: 0.3324 - acc: 0.8563\n",
            "Epoch 27/100\n",
            "1600/1600 [==============================] - 0s 286us/step - loss: 0.3308 - acc: 0.8700\n",
            "Epoch 28/100\n",
            "1600/1600 [==============================] - 0s 287us/step - loss: 0.3262 - acc: 0.8631\n",
            "Epoch 29/100\n",
            " 800/1600 [==============>...............] - ETA: 0s - loss: 0.3247 - acc: 0.8825"
          ],
          "name": "stdout"
        },
        {
          "output_type": "stream",
          "text": [
            "1600/1600 [==============================] - 0s 286us/step - loss: 0.3223 - acc: 0.8712\n",
            "Epoch 30/100\n",
            "1600/1600 [==============================] - 0s 289us/step - loss: 0.3218 - acc: 0.8719\n",
            "Epoch 31/100\n",
            "1600/1600 [==============================] - 0s 288us/step - loss: 0.3220 - acc: 0.8712\n",
            "Epoch 32/100\n",
            "1600/1600 [==============================] - 0s 289us/step - loss: 0.3209 - acc: 0.8769\n",
            "Epoch 33/100\n",
            "1600/1600 [==============================] - 0s 287us/step - loss: 0.3125 - acc: 0.8744\n",
            "Epoch 34/100\n",
            "1600/1600 [==============================] - 0s 285us/step - loss: 0.3147 - acc: 0.8694\n",
            "Epoch 35/100\n",
            "1600/1600 [==============================] - 0s 286us/step - loss: 0.3097 - acc: 0.8756\n",
            "Epoch 36/100\n",
            "1600/1600 [==============================] - 0s 287us/step - loss: 0.3111 - acc: 0.8794\n",
            "Epoch 37/100\n",
            "1600/1600 [==============================] - 0s 294us/step - loss: 0.3010 - acc: 0.8781\n",
            "Epoch 38/100\n",
            "1600/1600 [==============================] - 0s 287us/step - loss: 0.3124 - acc: 0.8738\n",
            "Epoch 39/100\n",
            "1600/1600 [==============================] - 0s 287us/step - loss: 0.3011 - acc: 0.8862\n",
            "Epoch 40/100\n",
            "1600/1600 [==============================] - 0s 284us/step - loss: 0.3054 - acc: 0.8844\n",
            "Epoch 41/100\n",
            "1600/1600 [==============================] - 0s 288us/step - loss: 0.3056 - acc: 0.8781\n",
            "Epoch 42/100\n",
            "1600/1600 [==============================] - 0s 287us/step - loss: 0.3028 - acc: 0.8812\n",
            "Epoch 43/100\n",
            " 800/1600 [==============>...............] - ETA: 0s - loss: 0.3052 - acc: 0.8787"
          ],
          "name": "stdout"
        },
        {
          "output_type": "stream",
          "text": [
            "1600/1600 [==============================] - 0s 294us/step - loss: 0.3087 - acc: 0.8794\n",
            "Epoch 44/100\n",
            "1600/1600 [==============================] - 0s 293us/step - loss: 0.3046 - acc: 0.8781\n",
            "Epoch 45/100\n",
            "1600/1600 [==============================] - 0s 290us/step - loss: 0.3035 - acc: 0.8844\n",
            "Epoch 46/100\n",
            "1600/1600 [==============================] - 0s 288us/step - loss: 0.2997 - acc: 0.8762\n",
            "Epoch 47/100\n",
            "1600/1600 [==============================] - 0s 288us/step - loss: 0.2976 - acc: 0.8856\n",
            "Epoch 48/100\n",
            "1600/1600 [==============================] - 0s 292us/step - loss: 0.3026 - acc: 0.8781\n",
            "Epoch 49/100\n",
            "1600/1600 [==============================] - 0s 291us/step - loss: 0.2954 - acc: 0.8788\n",
            "Epoch 50/100\n",
            "1600/1600 [==============================] - 0s 291us/step - loss: 0.2919 - acc: 0.8881\n",
            "Epoch 51/100\n",
            "1600/1600 [==============================] - 0s 293us/step - loss: 0.2899 - acc: 0.8850\n",
            "Epoch 52/100\n",
            "1600/1600 [==============================] - 0s 288us/step - loss: 0.2869 - acc: 0.8881\n",
            "Epoch 53/100\n",
            "1600/1600 [==============================] - 0s 287us/step - loss: 0.2953 - acc: 0.8781\n",
            "Epoch 54/100\n",
            "1600/1600 [==============================] - 0s 289us/step - loss: 0.2837 - acc: 0.8831\n",
            "Epoch 55/100\n",
            "1600/1600 [==============================] - 0s 289us/step - loss: 0.2806 - acc: 0.8875\n",
            "Epoch 56/100\n",
            "1600/1600 [==============================] - 0s 286us/step - loss: 0.2928 - acc: 0.8850\n",
            "Epoch 57/100\n",
            " 800/1600 [==============>...............] - ETA: 0s - loss: 0.2858 - acc: 0.8925"
          ],
          "name": "stdout"
        },
        {
          "output_type": "stream",
          "text": [
            "1600/1600 [==============================] - 0s 293us/step - loss: 0.2830 - acc: 0.8888\n",
            "Epoch 58/100\n",
            "1600/1600 [==============================] - 0s 288us/step - loss: 0.2816 - acc: 0.8919\n",
            "Epoch 59/100\n",
            "1600/1600 [==============================] - 0s 291us/step - loss: 0.2795 - acc: 0.8912\n",
            "Epoch 60/100\n",
            "1600/1600 [==============================] - 0s 286us/step - loss: 0.2806 - acc: 0.8975\n",
            "Epoch 61/100\n",
            "1600/1600 [==============================] - 0s 289us/step - loss: 0.2767 - acc: 0.9006\n",
            "Epoch 62/100\n",
            "1600/1600 [==============================] - 0s 287us/step - loss: 0.2754 - acc: 0.8956\n",
            "Epoch 63/100\n",
            "1600/1600 [==============================] - 0s 286us/step - loss: 0.2784 - acc: 0.8881\n",
            "Epoch 64/100\n",
            "1600/1600 [==============================] - 0s 288us/step - loss: 0.2741 - acc: 0.8944\n",
            "Epoch 65/100\n",
            "1600/1600 [==============================] - 0s 292us/step - loss: 0.2708 - acc: 0.8969\n",
            "Epoch 66/100\n",
            "1600/1600 [==============================] - 0s 287us/step - loss: 0.2795 - acc: 0.8931\n",
            "Epoch 67/100\n",
            "1600/1600 [==============================] - 0s 292us/step - loss: 0.2795 - acc: 0.8825\n",
            "Epoch 68/100\n",
            "1600/1600 [==============================] - 0s 289us/step - loss: 0.2711 - acc: 0.8994\n",
            "Epoch 69/100\n",
            "1600/1600 [==============================] - 0s 285us/step - loss: 0.2639 - acc: 0.9037\n",
            "Epoch 70/100\n",
            "1600/1600 [==============================] - 0s 287us/step - loss: 0.2692 - acc: 0.9000\n",
            "Epoch 71/100\n",
            " 800/1600 [==============>...............] - ETA: 0s - loss: 0.2739 - acc: 0.8938"
          ],
          "name": "stdout"
        },
        {
          "output_type": "stream",
          "text": [
            "1600/1600 [==============================] - 0s 285us/step - loss: 0.2681 - acc: 0.8981\n",
            "Epoch 72/100\n",
            "1600/1600 [==============================] - 0s 290us/step - loss: 0.2666 - acc: 0.8969\n",
            "Epoch 73/100\n",
            "1600/1600 [==============================] - 0s 289us/step - loss: 0.2645 - acc: 0.8987\n",
            "Epoch 74/100\n",
            "1600/1600 [==============================] - 0s 287us/step - loss: 0.2692 - acc: 0.8963\n",
            "Epoch 75/100\n",
            "1600/1600 [==============================] - 0s 285us/step - loss: 0.2635 - acc: 0.9019\n",
            "Epoch 76/100\n",
            "1600/1600 [==============================] - 0s 290us/step - loss: 0.2555 - acc: 0.8994\n",
            "Epoch 77/100\n",
            "1600/1600 [==============================] - 0s 284us/step - loss: 0.2673 - acc: 0.9050\n",
            "Epoch 78/100\n",
            "1600/1600 [==============================] - 0s 289us/step - loss: 0.2587 - acc: 0.9038\n",
            "Epoch 79/100\n",
            "1600/1600 [==============================] - 0s 291us/step - loss: 0.2561 - acc: 0.8994\n",
            "Epoch 80/100\n",
            "1600/1600 [==============================] - 0s 291us/step - loss: 0.2590 - acc: 0.9050\n",
            "Epoch 81/100\n",
            "1600/1600 [==============================] - 0s 288us/step - loss: 0.2594 - acc: 0.9012\n",
            "Epoch 82/100\n",
            "1600/1600 [==============================] - 0s 289us/step - loss: 0.2539 - acc: 0.9050\n",
            "Epoch 83/100\n",
            "1600/1600 [==============================] - 0s 288us/step - loss: 0.2535 - acc: 0.9050\n",
            "Epoch 84/100\n",
            "1600/1600 [==============================] - 0s 289us/step - loss: 0.2538 - acc: 0.9069\n",
            "Epoch 85/100\n",
            " 800/1600 [==============>...............] - ETA: 0s - loss: 0.2468 - acc: 0.9137"
          ],
          "name": "stdout"
        },
        {
          "output_type": "stream",
          "text": [
            "1600/1600 [==============================] - 0s 287us/step - loss: 0.2472 - acc: 0.9100\n",
            "Epoch 86/100\n",
            "1600/1600 [==============================] - 0s 290us/step - loss: 0.2523 - acc: 0.9062\n",
            "Epoch 87/100\n",
            "1600/1600 [==============================] - 0s 288us/step - loss: 0.2519 - acc: 0.9075\n",
            "Epoch 88/100\n",
            "1600/1600 [==============================] - 0s 291us/step - loss: 0.2474 - acc: 0.9069\n",
            "Epoch 89/100\n",
            "1600/1600 [==============================] - 0s 290us/step - loss: 0.2438 - acc: 0.9081\n",
            "Epoch 90/100\n",
            "1600/1600 [==============================] - 0s 286us/step - loss: 0.2442 - acc: 0.9119\n",
            "Epoch 91/100\n",
            "1600/1600 [==============================] - 0s 287us/step - loss: 0.2409 - acc: 0.9100\n",
            "Epoch 92/100\n",
            "1600/1600 [==============================] - 0s 286us/step - loss: 0.2393 - acc: 0.9119\n",
            "Epoch 93/100\n",
            "1600/1600 [==============================] - 0s 290us/step - loss: 0.2443 - acc: 0.9037\n",
            "Epoch 94/100\n",
            "1600/1600 [==============================] - 0s 289us/step - loss: 0.2377 - acc: 0.9150\n",
            "Epoch 95/100\n",
            "1600/1600 [==============================] - 0s 287us/step - loss: 0.2393 - acc: 0.9106\n",
            "Epoch 96/100\n",
            "1600/1600 [==============================] - 0s 288us/step - loss: 0.2364 - acc: 0.9138\n",
            "Epoch 97/100\n",
            "1600/1600 [==============================] - 0s 288us/step - loss: 0.2362 - acc: 0.9150\n",
            "Epoch 98/100\n",
            "1600/1600 [==============================] - 0s 290us/step - loss: 0.2355 - acc: 0.9138\n",
            "Epoch 99/100\n",
            " 800/1600 [==============>...............] - ETA: 0s - loss: 0.2139 - acc: 0.9200"
          ],
          "name": "stdout"
        },
        {
          "output_type": "stream",
          "text": [
            "1600/1600 [==============================] - 0s 291us/step - loss: 0.2270 - acc: 0.9137\n",
            "Epoch 100/100\n",
            "1600/1600 [==============================] - 0s 288us/step - loss: 0.2337 - acc: 0.9137\n"
          ],
          "name": "stdout"
        },
        {
          "output_type": "execute_result",
          "data": {
            "text/plain": [
              "<keras.callbacks.History at 0x7ff238970748>"
            ]
          },
          "metadata": {
            "tags": []
          },
          "execution_count": 415
        }
      ]
    },
    {
      "metadata": {
        "id": "6qO0dO5fv46A",
        "colab_type": "code",
        "colab": {
          "autoexec": {
            "startup": false,
            "wait_interval": 0
          },
          "base_uri": "https://localhost:8080/",
          "height": 51
        },
        "outputId": "c5bf5381-89ed-40a8-b9e5-cbc669f5ea9e",
        "executionInfo": {
          "status": "ok",
          "timestamp": 1523242277096,
          "user_tz": 240,
          "elapsed": 1290,
          "user": {
            "displayName": "Bharadwaj Sannapaneni",
            "photoUrl": "https://lh3.googleusercontent.com/a/default-user=s128",
            "userId": "109318841135892254507"
          }
        }
      },
      "cell_type": "code",
      "source": [
        "### Evaluating Validation Accuracy\n",
        "validation_accuracy = model.evaluate(X_validate, Y_validate)\n",
        "print(validation_accuracy)"
      ],
      "execution_count": 416,
      "outputs": [
        {
          "output_type": "stream",
          "text": [
            "400/400 [==============================] - 1s 2ms/step\n",
            "[0.2765240430831909, 0.89]\n"
          ],
          "name": "stdout"
        }
      ]
    },
    {
      "metadata": {
        "id": "XYpylXdoT1mk",
        "colab_type": "code",
        "colab": {
          "autoexec": {
            "startup": false,
            "wait_interval": 0
          },
          "base_uri": "https://localhost:8080/",
          "height": 54
        },
        "outputId": "f2b61cdd-72a3-448d-b8d0-c6cbb69317e8",
        "executionInfo": {
          "status": "ok",
          "timestamp": 1523242285554,
          "user_tz": 240,
          "elapsed": 1241,
          "user": {
            "displayName": "Bharadwaj Sannapaneni",
            "photoUrl": "https://lh3.googleusercontent.com/a/default-user=s128",
            "userId": "109318841135892254507"
          }
        }
      },
      "cell_type": "code",
      "source": [
        "### Predicting the Test Accuracy\n",
        "prediction=model.predict(encoded_test_data)\n",
        "value=[round(i[0]) for i in prediction]\n",
        "print(value)"
      ],
      "execution_count": 417,
      "outputs": [
        {
          "output_type": "stream",
          "text": [
            "[1.0, 1.0, 1.0, 0.0, 0.0, 0.0, 1.0, 0.0, 1.0, 1.0, 1.0, 0.0, 0.0, 1.0, 0.0, 0.0, 0.0, 0.0, 1.0, 1.0, 0.0, 1.0, 1.0, 1.0, 0.0, 1.0, 0.0, 1.0, 0.0, 0.0, 1.0, 1.0, 1.0, 1.0, 0.0, 0.0, 0.0, 1.0, 1.0, 1.0, 0.0, 0.0, 0.0, 0.0, 1.0, 0.0, 0.0, 1.0, 0.0, 0.0, 1.0, 1.0, 0.0, 0.0, 0.0, 1.0, 0.0, 1.0, 1.0, 0.0, 0.0, 0.0, 1.0, 1.0, 0.0, 1.0, 0.0, 1.0, 0.0, 0.0, 0.0, 1.0, 1.0, 1.0, 1.0, 0.0, 0.0, 1.0, 1.0, 0.0, 0.0, 1.0, 0.0, 1.0, 0.0, 0.0, 0.0, 0.0, 0.0, 0.0, 1.0, 0.0, 0.0, 0.0, 1.0, 0.0, 1.0, 0.0, 1.0, 0.0, 0.0, 1.0, 0.0, 1.0, 1.0, 0.0, 1.0, 1.0, 0.0, 0.0, 1.0, 1.0, 1.0, 1.0, 0.0, 0.0, 0.0, 1.0, 0.0, 1.0, 1.0, 0.0, 1.0, 0.0, 0.0, 0.0, 1.0, 1.0, 1.0, 1.0, 0.0, 0.0, 1.0, 0.0, 0.0, 0.0, 1.0, 1.0, 0.0, 1.0, 0.0, 0.0, 1.0, 0.0, 0.0, 0.0, 0.0, 0.0, 1.0, 1.0, 1.0, 1.0, 1.0, 0.0, 1.0, 0.0, 1.0, 0.0, 1.0, 1.0, 0.0, 1.0, 1.0, 1.0, 0.0, 1.0, 0.0, 1.0, 1.0, 1.0, 1.0, 1.0, 1.0, 0.0, 0.0, 0.0, 1.0, 1.0, 0.0, 1.0, 0.0, 0.0, 1.0, 1.0, 0.0, 0.0, 1.0, 1.0, 0.0, 1.0, 0.0, 1.0, 0.0, 0.0, 1.0, 0.0, 0.0, 0.0, 1.0, 1.0, 0.0, 0.0, 1.0, 0.0, 0.0, 0.0, 1.0, 0.0, 0.0, 0.0, 1.0, 1.0, 0.0, 1.0, 0.0, 0.0, 0.0, 0.0, 0.0, 0.0, 0.0, 1.0, 1.0, 0.0, 1.0, 1.0, 1.0, 1.0, 1.0, 1.0, 1.0, 1.0, 0.0, 0.0, 1.0, 0.0, 0.0, 1.0, 0.0, 1.0, 1.0, 0.0, 0.0, 0.0, 0.0, 0.0, 1.0, 1.0, 0.0, 1.0, 1.0, 0.0, 1.0, 0.0, 0.0, 0.0, 1.0, 1.0, 0.0, 0.0, 1.0, 1.0, 1.0, 0.0, 0.0, 1.0, 1.0, 1.0, 1.0, 1.0, 1.0, 0.0, 0.0, 1.0, 0.0, 0.0, 0.0, 1.0, 1.0, 0.0, 0.0, 1.0, 0.0, 0.0, 1.0, 0.0, 1.0, 0.0, 0.0, 0.0, 0.0, 0.0, 1.0, 1.0, 1.0, 0.0, 0.0, 0.0, 0.0, 1.0, 1.0, 1.0, 1.0, 0.0, 1.0, 1.0, 1.0, 1.0, 0.0, 0.0, 0.0, 0.0, 1.0, 1.0, 1.0, 0.0, 0.0, 1.0, 0.0, 0.0, 0.0, 0.0, 1.0, 1.0, 0.0, 1.0, 1.0, 0.0, 1.0, 1.0, 1.0, 0.0, 1.0, 0.0, 0.0, 1.0, 1.0, 1.0, 1.0, 1.0, 0.0, 1.0, 1.0, 1.0, 0.0, 0.0, 1.0, 0.0, 0.0, 0.0, 1.0, 1.0, 1.0, 0.0, 1.0, 0.0, 1.0, 1.0, 0.0, 0.0, 1.0, 1.0, 1.0, 0.0, 0.0, 0.0, 0.0, 1.0, 1.0, 0.0, 1.0, 0.0, 0.0, 0.0, 1.0, 0.0, 1.0, 0.0, 1.0, 1.0, 0.0, 0.0, 1.0, 0.0, 1.0, 0.0, 0.0, 0.0, 0.0, 1.0, 0.0, 0.0, 0.0, 0.0, 1.0, 1.0, 0.0, 1.0, 0.0, 0.0]\n"
          ],
          "name": "stdout"
        }
      ]
    },
    {
      "metadata": {
        "id": "Lveg7kVztMrJ",
        "colab_type": "code",
        "colab": {
          "autoexec": {
            "startup": false,
            "wait_interval": 0
          }
        }
      },
      "cell_type": "code",
      "source": [
        ""
      ],
      "execution_count": 0,
      "outputs": []
    }
  ]
}